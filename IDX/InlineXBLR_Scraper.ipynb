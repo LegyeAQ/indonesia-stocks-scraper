{
 "cells": [
  {
   "cell_type": "code",
   "execution_count": 3,
   "metadata": {},
   "outputs": [],
   "source": [
    "from bs4 import BeautifulSoup\n",
    "import re\n",
    "import os\n",
    "import json\n",
    "import pprint"
   ]
  },
  {
   "cell_type": "code",
   "execution_count": 4,
   "metadata": {},
   "outputs": [],
   "source": [
    "class Scraper:\n",
    "    def __init__(self, year, quarter, code):\n",
    "        self.year = year\n",
    "        self.quarter = quarter\n",
    "        self.path = '/Users/basnugroho/Downloads/FinancialStatements/' + str(year) + '/Q' + str(quarter) + '/' + code + '/inlineXBRL/'\n",
    "\n",
    "        # run on create object\n",
    "        self.inline_xbrl_files = []\n",
    "        self.set_xbrl_list_files()\n",
    "\n",
    "    def set_xbrl_list_files(self):\n",
    "        for file in os.listdir(self.path):\n",
    "            if file.endswith(\".html\"):\n",
    "                # print(os.path.join(\"Scrapers/2018/Q3/AALI/inlineXBRL/\", file))\n",
    "                self.inline_xbrl_files.append(file)\n",
    "                self.inline_xbrl_files.sort()\n",
    "\n",
    "    def read_file(self,file):\n",
    "        file = open(self.path+file)\n",
    "        data = file.read()\n",
    "        file.close()\n",
    "        return data\n",
    "\n",
    "    def get_general_info(self):\n",
    "        soup = BeautifulSoup(self.read_file(file=self.inline_xbrl_files[0]), 'lxml')\n",
    "        columns = self.get_general_info_en_columns()\n",
    "        values = self.get_general_info_values()\n",
    "        data = dict(zip(columns, values))\n",
    "        return data\n",
    "\n",
    "    def get_balance_sheet(self):\n",
    "        soup = BeautifulSoup(scraper.read_file(file=scraper.inline_xbrl_files[1]), 'lxml')\n",
    "        trows = soup.findAll('tr', {'style': ''})\n",
    "\n",
    "        columns = []\n",
    "        values = []\n",
    "        for row in trows:\n",
    "            cols = row.findAll('td', {'class': 'rowHeaderEN01'})\n",
    "            for col in cols:\n",
    "                columns.append(col.contents[0].replace(' ', '_').lower())\n",
    "            vals = row.findAll('ix:nonfraction', {'contextref': 'CurrentYearInstant'})\n",
    "            if len(vals) > 0:\n",
    "                numb_str = re.sub('  +', '', vals[0].contents[0].replace('\\n', ''))\n",
    "                try:\n",
    "                    values.append(float(numb_str.replace(',', '')))\n",
    "                except Exception as e:\n",
    "                    print(e)\n",
    "            else:\n",
    "                values.append('')\n",
    "\n",
    "        return dict(zip(columns, values[2:]))\n",
    "\n",
    "    def get_income_statement(self):\n",
    "        soup = BeautifulSoup(scraper.read_file(file=scraper.inline_xbrl_files[2]), 'lxml')\n",
    "        trows = soup.findAll('tr', {'style': ''})\n",
    "\n",
    "        columns = []\n",
    "        values = []\n",
    "        for row in trows:\n",
    "            cols = row.findAll('td', {'class': 'rowHeaderEN01'})\n",
    "            for col in cols:\n",
    "                columns.append(col.contents[0].replace(' ', '_').lower())\n",
    "            vals = row.findAll('ix:nonfraction', {'contextref': 'CurrentYearDuration'})\n",
    "            if len(vals) > 0:\n",
    "                numb_str = re.sub('  +', '', vals[0].contents[0].replace('\\n', ''))\n",
    "                try:\n",
    "                    values.append(float(numb_str.replace(',', '')))\n",
    "                except Exception as e:\n",
    "                    print(e)\n",
    "            else:\n",
    "                values.append('')\n",
    "\n",
    "        return dict(zip(columns, values[2:]))\n",
    "\n",
    "    def get_cash_flow(self):\n",
    "        pass\n",
    "\n",
    "    def get_all(self, type='json'):\n",
    "        # data = self.get_general_info().copy()\n",
    "        # data.update({'income_statement': self.get_income_statement()})\n",
    "        data = {'general_info': self.get_general_info(),\n",
    "                'balance_sheet': self.get_balance_sheet(),\n",
    "                'income_statement': self.get_income_statement(),\n",
    "                'cash_flow': self.get_cash_flow()\n",
    "                }\n",
    "        # if(type=='json'):\n",
    "        #     return json.dumps(data)\n",
    "        # else:\n",
    "        #     return json.dumps(data)\n",
    "        return data\n",
    "\n",
    "    def write_json(self):\n",
    "        with open(self.path+'data.json', 'w') as outfile:\n",
    "            json.dump(self.get_all(), outfile, indent=4)\n",
    "            outfile.close()\n",
    "\n",
    "    def get_general_info_en_columns(self, file_number=0):\n",
    "        soup = BeautifulSoup(self.read_file(file=self.inline_xbrl_files[file_number]), 'lxml')\n",
    "        columns = soup.findAll(attrs={'class': 'rowHeaderEN01'})\n",
    "        return [col.text.replace(' ', '_').lower() for col in columns]\n",
    "\n",
    "    def get_general_info_values(self, file_number=0):\n",
    "        soup = BeautifulSoup(self.read_file(file=self.inline_xbrl_files[file_number]), 'lxml')\n",
    "        columns = soup.findAll(attrs={'class': 'valueCell'})\n",
    "        return [re.sub('  +', '', col.text.replace('\\n', '')) for col in columns]\n",
    "\n",
    "    def get_visible_balance_sheet_columns(self):\n",
    "        soup = BeautifulSoup(self.read_file(file=self.inline_xbrl_files[1]), 'lxml')\n",
    "        trows = soup.findAll('tr', {'style': ''})\n",
    "        visible_columns = []\n",
    "        for row in trows:\n",
    "            cols = row.findAll('td', {'class': 'rowHeaderEN01'})\n",
    "            for col in cols:\n",
    "                visible_columns.append(col.contents[0])\n",
    "        data = [column.replace(' ', '_').lower() for column in visible_columns]\n",
    "        return data"
   ]
  },
  {
   "cell_type": "code",
   "execution_count": 5,
   "metadata": {},
   "outputs": [],
   "source": [
    "scraper = Scraper(year=2018, quarter=3, code='TLKM')"
   ]
  },
  {
   "cell_type": "code",
   "execution_count": 8,
   "metadata": {},
   "outputs": [],
   "source": [
    "def get_general_info_en_columns():\n",
    "    soup = BeautifulSoup(scraper.read_file(file=scraper.inline_xbrl_files[0]), 'lxml')\n",
    "    columns = soup.findAll(attrs={'class': 'rowHeaderEN01'})\n",
    "    return [col.text.replace(' ','_').lower() for col in columns]"
   ]
  },
  {
   "cell_type": "code",
   "execution_count": 9,
   "metadata": {},
   "outputs": [
    {
     "name": "stdout",
     "output_type": "stream",
     "text": [
      "explanation_of_change_in_name_from_the_end_of_the_preceding_reporting_period\n"
     ]
    }
   ],
   "source": [
    "print(get_general_info_en_columns()[1])"
   ]
  },
  {
   "cell_type": "code",
   "execution_count": 373,
   "metadata": {},
   "outputs": [],
   "source": [
    "# get visible columns and values (including negativity) for income statements\n",
    "soup = BeautifulSoup(scraper.read_file(file=scraper.inline_xbrl_files[2]), 'lxml')\n",
    "trows = soup.findAll('tr', {'style': ''})\n",
    "\n",
    "columns = []\n",
    "values = []\n",
    "\n",
    "for row in trows:\n",
    "    cols = row.findAll('td', {'class': 'rowHeaderEN01'})\n",
    "    for col in cols:\n",
    "        columns.append(col.contents[0].replace(' ', '_').lower())\n",
    "    \n",
    "    vals = row.findAll('ix:nonfraction', {'contextref': 'CurrentYearDuration'})\n",
    "    minus_sign = row.findAll('td', {'class': 'valueCell'})\n",
    "    if len(vals) > 0:\n",
    "        numb_str  =  re.sub('  +', '', vals[0].contents[0].replace('\\n',''))\n",
    "        try:\n",
    "            values.append(float(numb_str.replace(',','')))\n",
    "        except Exception as e:\n",
    "            print(e)\n",
    "    else:\n",
    "        values.append('')\n",
    "\n",
    "# negativize\n",
    "shifted_values = values[2:]\n",
    "minus_signs = find_minus_signs()\n",
    "for i in range(0, len(minus_signs)):\n",
    "    if minus_signs[i]:\n",
    "        shifted_values[i] = -1 * shifted_values[i]\n",
    "            \n",
    "data = dict(zip(columns, shifted_values))"
   ]
  },
  {
   "cell_type": "code",
   "execution_count": 374,
   "metadata": {},
   "outputs": [],
   "source": [
    "# find minus signs\n",
    "def find_minus_signs():\n",
    "    min_signs = []\n",
    "    signs = []\n",
    "    for row in trows:\n",
    "        minus_sign = row.findAll('td', {'class': 'valueCell'})\n",
    "        min_signs.append(minus_sign)\n",
    "\n",
    "    for i in range(1, len(min_signs)):\n",
    "        if len(min_signs[i]) > 0:\n",
    "            if str(min_signs[i][0]).find('(') is not -1:\n",
    "                signs.append(True)\n",
    "            else:\n",
    "                signs.append(False)\n",
    "    return signs"
   ]
  },
  {
   "cell_type": "code",
   "execution_count": 375,
   "metadata": {},
   "outputs": [],
   "source": [
    "# negativize\n",
    "#shifted_values = values[2:]\n",
    "minus_signs = find_minus_signs()\n",
    "for i in range(0, len(minus_signs)):\n",
    "    if minus_signs[i]:\n",
    "        shifted_values[i] = -1 * shifted_values[i]"
   ]
  },
  {
   "cell_type": "code",
   "execution_count": 376,
   "metadata": {},
   "outputs": [
    {
     "name": "stdout",
     "output_type": "stream",
     "text": [
      "31\n",
      "[99203.0, 848.0, 3074.0, 2983.0, 33432.0, 10299.0, 15873.0, 5024.0, 76.0, 804.0, 2619.0, 45.0, 27672.0, 6985.0, 20687.0, 20687.0, '', '', 194.0, 194.0, 194.0, 20881.0, '', 14232.0, 6455.0, '', 14426.0, 6455.0, '', '', 143.67]\n"
     ]
    }
   ],
   "source": [
    "print(len(minus_signs))\n",
    "print(shifted_values)"
   ]
  },
  {
   "cell_type": "code",
   "execution_count": null,
   "metadata": {},
   "outputs": [],
   "source": []
  },
  {
   "cell_type": "code",
   "execution_count": null,
   "metadata": {},
   "outputs": [],
   "source": []
  },
  {
   "cell_type": "code",
   "execution_count": null,
   "metadata": {},
   "outputs": [],
   "source": []
  },
  {
   "cell_type": "code",
   "execution_count": 377,
   "metadata": {},
   "outputs": [
    {
     "data": {
      "text/plain": [
       "<td class=\"valueCell\" style=\"text-align:right;\"> ( \n",
       "         <ix:nonfraction contextref=\"CurrentYearDuration\" decimals=\"-9\" format=\"ixt:numcommadot\" id=\"IX02_0697_003_01_02\" name=\"idx-cor:InterconnectionExpenses\" scale=\"9\" unitref=\"IDR\">\n",
       "           3,074 \n",
       "         </ix:nonfraction>) </td>"
      ]
     },
     "execution_count": 377,
     "metadata": {},
     "output_type": "execute_result"
    }
   ],
   "source": [
    "min_signs[4][0]"
   ]
  },
  {
   "cell_type": "code",
   "execution_count": 378,
   "metadata": {},
   "outputs": [
    {
     "name": "stdout",
     "output_type": "stream",
     "text": [
      "found\n"
     ]
    },
    {
     "data": {
      "text/plain": [
       "<td class=\"valueCell\" style=\"text-align:right;\"> ( \n",
       "         <ix:nonfraction contextref=\"CurrentYearDuration\" decimals=\"-9\" format=\"ixt:numcommadot\" id=\"IX02_0697_003_01_02\" name=\"idx-cor:InterconnectionExpenses\" scale=\"9\" unitref=\"IDR\">\n",
       "           3,074 \n",
       "         </ix:nonfraction>) </td>"
      ]
     },
     "execution_count": 378,
     "metadata": {},
     "output_type": "execute_result"
    }
   ],
   "source": [
    "regex = re.compile('[<(]')\n",
    "index = 4\n",
    "#print(regex.match(str(min_signs[index][0])))\n",
    "#print('x' in str(min_signs[index][0]))\n",
    "if str(min_signs[index][0]).find('(') is not -1:\n",
    "    print('found')\n",
    "min_signs[index][0]"
   ]
  },
  {
   "cell_type": "code",
   "execution_count": 379,
   "metadata": {},
   "outputs": [
    {
     "data": {
      "text/plain": [
       "'<td class=\"valueCell\" style=\"text-align:right;\"> ( \\n         <ix:nonfraction contextref=\"CurrentYearDuration\" decimals=\"-9\" format=\"ixt:numcommadot\" id=\"IX02_0697_003_01_02\" name=\"idx-cor:InterconnectionExpenses\" scale=\"9\" unitref=\"IDR\">\\n           3,074 \\n         </ix:nonfraction>) </td>'"
      ]
     },
     "execution_count": 379,
     "metadata": {},
     "output_type": "execute_result"
    }
   ],
   "source": [
    "str(min_signs[4][0])"
   ]
  },
  {
   "cell_type": "code",
   "execution_count": 380,
   "metadata": {},
   "outputs": [],
   "source": [
    "# cash flow"
   ]
  },
  {
   "cell_type": "code",
   "execution_count": 387,
   "metadata": {},
   "outputs": [],
   "source": [
    "soup = BeautifulSoup(scraper.read_file(file=scraper.inline_xbrl_files[-1]), 'lxml')\n",
    "trows = soup.findAll('tr', {'style': ''})\n",
    "columns = []\n",
    "values = []\n",
    "for row in trows:\n",
    "    cols = row.findAll('td', {'class': 'rowHeaderEN01'})\n",
    "#     for col in cols:\n",
    "#         columns.append(col.contents[0].replace(' ', '_').lower())\n",
    "#     vals = row.findAll('ix:nonfraction', {'contextref': 'CurrentYearDuration'})\n",
    "#     if len(vals) > 0:\n",
    "#         numb_str = re.sub('  +', '', vals[0].contents[0].replace('\\n', ''))\n",
    "#         try:\n",
    "#             values.append(float(numb_str.replace(',', '')))\n",
    "#         except Exception as e:\n",
    "#             print(e)\n",
    "#     else:\n",
    "#         values.append('')\n",
    "\n",
    "#cash_flow = dict(zip(columns, values[4:]))"
   ]
  },
  {
   "cell_type": "code",
   "execution_count": 383,
   "metadata": {},
   "outputs": [
    {
     "name": "stdout",
     "output_type": "stream",
     "text": [
      "29\n",
      "26\n"
     ]
    }
   ],
   "source": [
    "print(len(columns))\n",
    "print(len(values[4:]))"
   ]
  },
  {
   "cell_type": "code",
   "execution_count": 384,
   "metadata": {},
   "outputs": [
    {
     "data": {
      "text/plain": [
       "['cash_flows_from_operating_activities_',\n",
       " 'cash_receipts_from_operating_activities_',\n",
       " 'receipts_from_customers',\n",
       " 'cash_payments_from_operating_activities_',\n",
       " 'payments_to_suppliers_for_goods_and_services',\n",
       " 'payments_for_salaries_and_allowances']"
      ]
     },
     "execution_count": 384,
     "metadata": {},
     "output_type": "execute_result"
    }
   ],
   "source": [
    "columns[0:6]"
   ]
  },
  {
   "cell_type": "code",
   "execution_count": 385,
   "metadata": {},
   "outputs": [
    {
     "data": {
      "text/plain": [
       "17302.0"
      ]
     },
     "execution_count": 385,
     "metadata": {},
     "output_type": "execute_result"
    }
   ],
   "source": [
    "values[-1]"
   ]
  },
  {
   "cell_type": "code",
   "execution_count": null,
   "metadata": {},
   "outputs": [],
   "source": []
  }
 ],
 "metadata": {
  "kernelspec": {
   "display_name": "Python 3",
   "language": "python",
   "name": "python3"
  },
  "language_info": {
   "codemirror_mode": {
    "name": "ipython",
    "version": 3
   },
   "file_extension": ".py",
   "mimetype": "text/x-python",
   "name": "python",
   "nbconvert_exporter": "python",
   "pygments_lexer": "ipython3",
   "version": "3.7.0"
  }
 },
 "nbformat": 4,
 "nbformat_minor": 2
}
